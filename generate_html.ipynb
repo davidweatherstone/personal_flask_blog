{
 "cells": [
  {
   "cell_type": "code",
   "execution_count": 27,
   "metadata": {},
   "outputs": [
    {
     "name": "stdout",
     "output_type": "stream",
     "text": [
      "Subprocess output: \n",
      "Subprocess errors: [NbConvertApp] Converting notebook G:\\My Drive\\Data\\Projects\\Weekenders\\matplotlib\\009 Matplotlib formatting different units on subplots\\009 Matplotlib formatting different units on subplots.ipynb to html\n",
      "[NbConvertApp] WARNING | Alternative text is missing on 2 image(s).\n",
      "[NbConvertApp] Writing 531686 bytes to G:\\My Drive\\Data\\Projects\\blog_sansbootstrap\\templates\\content\\009_Matplotlib_formatting_different_units_on_subplots.html\n",
      "\n",
      "HTML Report was generated at: G:\\My Drive\\Data\\Projects\\blog_sansbootstrap\\templates\\content\\009_Matplotlib_formatting_different_units_on_subplots.html\n"
     ]
    },
    {
     "data": {
      "text/plain": [
       "'G:\\\\My Drive\\\\Data\\\\Projects\\\\blog_sansbootstrap\\\\templates\\\\content\\\\009_Matplotlib_formatting_different_units_on_subplots.html'"
      ]
     },
     "execution_count": 27,
     "metadata": {},
     "output_type": "execute_result"
    }
   ],
   "source": [
    "import os\n",
    "import subprocess\n",
    "import webbrowser\n",
    "\n",
    "def generate_html_report(notebook_file, output_dir):\n",
    "    \"\"\"\n",
    "    A function that converts a notebook into an html\n",
    "    file with specified output directory and filename.\n",
    "    \"\"\"\n",
    "    # Check if the output directory exists, if not, create it\n",
    "    if not os.path.exists(output_dir):\n",
    "        os.makedirs(output_dir)\n",
    "\n",
    "    # Construct the output file path\n",
    "    output_filename = f\"{os.path.basename(notebook_file).split('.')[0].replace(' ', '_')}.html\"\n",
    "    output_path = os.path.join(output_dir, output_filename)\n",
    "\n",
    "    # Modify the subprocess command to specify output directory and file name\n",
    "    generate = subprocess.run(\n",
    "    [\"jupyter\", \"nbconvert\", notebook_file, \"--to=html\", \"--output-dir\", output_dir, \"--output\", output_filename],\n",
    "    capture_output=True,  # Capture the output\n",
    "    text=True  # Interpret output as text\n",
    ")\n",
    "\n",
    "    print(\"Subprocess output:\", generate.stdout)  # Print the stdout\n",
    "    print(\"Subprocess errors:\", generate.stderr)  # Print the stderr\n",
    "\n",
    "    \n",
    "    print(\"HTML Report was generated at:\", output_path)\n",
    "    \n",
    "    # Open the generated HTML file\n",
    "    webbrowser.open(output_path)\n",
    "    \n",
    "    return output_path\n",
    "\n",
    "notebook_file = r\"G:\\My Drive\\Data\\Projects\\Weekenders\\matplotlib\\009 Matplotlib formatting different units on subplots\\009 Matplotlib formatting different units on subplots.ipynb\"\n",
    "output_directory = r\"G:\\My Drive\\Data\\Projects\\blog_sansbootstrap\\templates\\content\"\n",
    "\n",
    "generate_html_report(notebook_file, output_directory)\n"
   ]
  },
  {
   "cell_type": "code",
   "execution_count": 28,
   "metadata": {},
   "outputs": [],
   "source": [
    "# cd 'G:\\My Drive\\Data\\Projects\\davidweatherstone.github.io'\n",
    "# git init\n",
    "# git add .\n",
    "# git commit -m \"New Notebook\"\n",
    "# git remote set-url origin https://github.com/davidweatherstone/davidweatherstone.github.io.git\n",
    "# git push -u origin main"
   ]
  }
 ],
 "metadata": {
  "kernelspec": {
   "display_name": "base",
   "language": "python",
   "name": "python3"
  },
  "language_info": {
   "codemirror_mode": {
    "name": "ipython",
    "version": 3
   },
   "file_extension": ".py",
   "mimetype": "text/x-python",
   "name": "python",
   "nbconvert_exporter": "python",
   "pygments_lexer": "ipython3",
   "version": "3.12.3"
  }
 },
 "nbformat": 4,
 "nbformat_minor": 2
}
